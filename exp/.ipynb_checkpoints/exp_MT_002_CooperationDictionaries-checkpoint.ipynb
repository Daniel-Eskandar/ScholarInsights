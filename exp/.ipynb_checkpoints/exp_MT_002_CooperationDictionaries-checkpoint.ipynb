{
 "cells": [
  {
   "cell_type": "markdown",
   "id": "6354ca71-84da-40c9-b105-afd32bb6b307",
   "metadata": {},
   "source": [
    "# Cooperation Dictionaries\n",
    "\n",
    "This scripts generates a few dictionaries with useful information for the analysis of cooperation between professors and their coauthors."
   ]
  },
  {
   "cell_type": "code",
   "execution_count": 34,
   "id": "eeac4378-58e1-4fb7-b3c7-f16297ec555a",
   "metadata": {},
   "outputs": [],
   "source": [
    "import csv\n",
    "import matplotlib.pyplot as plt\n",
    "import pandas as pd\n",
    "import math\n",
    "import ast\n",
    "import numpy as np\n",
    "from tueplots.constants.color import rgb\n",
    "\n",
    "plt.rcParams.update({\"figure.dpi\": 300, 'font.family': 'Times New Roman'})"
   ]
  },
  {
   "cell_type": "code",
   "execution_count": 10,
   "id": "ad444e85-80b3-4ee0-87aa-f0aebe77e893",
   "metadata": {},
   "outputs": [],
   "source": [
    "nodes_file  = './../dat/professor_nodes.csv'\n",
    "edges_file  = './../dat/professor_edges.csv'\n",
    "groups_file = './../dat/professor_groups.txt'"
   ]
  },
  {
   "cell_type": "code",
   "execution_count": 16,
   "id": "b6716a20-f652-4849-aa01-26b544ce7d7e",
   "metadata": {},
   "outputs": [],
   "source": []
  },
  {
   "cell_type": "code",
   "execution_count": 40,
   "id": "343aa5bb-2457-44df-b9e2-926959853095",
   "metadata": {},
   "outputs": [
    {
     "name": "stdout",
     "output_type": "stream",
     "text": [
      "CSV file ./../dat/professor_nodes.csv created successfully.\n",
      "CSV file ./../dat/professor_edges.csv created successfully.\n",
      "txt file ./../dat/professor_groups.txt created successfully.\n"
     ]
    }
   ],
   "source": [
    "# Generate some dictionaries\n",
    "professors_coauthors = {}\n",
    "professors_collab_count = {}\n",
    "professors_unique_collab_fraction = {}\n",
    "professors_total_papers = {}\n",
    "\n",
    "\n",
    "for prof in professors:\n",
    "    professors_coauthors[prof] = {}\n",
    "    professors_collab_count[prof] = {}\n",
    "    professors_unique_collab_fraction[prof] = []\n",
    "    professors_total_papers[prof] = 0\n",
    "\n",
    "for i in range(len(df)):\n",
    "    prof = df.iloc[i, 0]\n",
    "    coauthor=\"\"\n",
    "    professors_total_papers[prof] += 1\n",
    "    for letter in df.iloc[i, 4]:\n",
    "        if letter != \";\":\n",
    "            coauthor += letter\n",
    "        else:\n",
    "            if (coauthor != prof):\n",
    "                if coauthor in professors_collab_count[prof]:\n",
    "                    professors_collab_count[prof][coauthor] +=1\n",
    "                else:\n",
    "                    professors_collab_count[prof][coauthor] = 1\n",
    "                if coauthor in professors:\n",
    "                    if coauthor in professors_coauthors[prof]:\n",
    "                        professors_coauthors[prof][coauthor] +=1\n",
    "                    else:\n",
    "                        professors_coauthors[prof][coauthor] = 1\n",
    "                    \n",
    "            coauthor = \"\"\n",
    "\n",
    "for prof in professors_collab_count:\n",
    "    professors_collab_count[prof] = dict(sorted(professors_collab_count[prof].items(), key=lambda item: item[1], reverse=True))\n",
    "    \n",
    "\n",
    "\n",
    "for prof1 in professors_collab_count:\n",
    "    collab_position = 1\n",
    "    unique_collabs = 0\n",
    "    for coauthor in professors_collab_count[prof1]:\n",
    "        unique = True\n",
    "        for prof2 in professors_collab_count:\n",
    "            if prof1 != prof2 and coauthor in professors_collab_count[prof2]:\n",
    "                unique = False\n",
    "        if unique:\n",
    "            unique_collabs += 1\n",
    "            \n",
    "        professors_unique_collab_fraction[prof1].append(unique_collabs/collab_position)    \n",
    "        collab_position += 1\n"
   ]
  },
  {
   "cell_type": "code",
   "execution_count": null,
   "id": "fd8f9ea3-bb39-470d-a344-4acef485eb3e",
   "metadata": {},
   "outputs": [],
   "source": []
  }
 ],
 "metadata": {
  "kernelspec": {
   "display_name": "Python 3 (ipykernel)",
   "language": "python",
   "name": "python3"
  },
  "language_info": {
   "codemirror_mode": {
    "name": "ipython",
    "version": 3
   },
   "file_extension": ".py",
   "mimetype": "text/x-python",
   "name": "python",
   "nbconvert_exporter": "python",
   "pygments_lexer": "ipython3",
   "version": "3.9.4"
  }
 },
 "nbformat": 4,
 "nbformat_minor": 5
}
