{
 "cells": [
  {
   "cell_type": "markdown",
   "id": "aefb1ebc-0381-42b1-9dc7-74221712e9c2",
   "metadata": {},
   "source": [
    "# Merge Publications\r\n",
    "\r\n",
    "This script reads XML files containing information about publications, extracts relevant data, and merges it into a CSV file named 'dataset.csv'. The CSV file includes columns for professor name, publication type, venue, title, authors, and year.\r\n"
   ]
  },
  {
   "cell_type": "code",
   "execution_count": 1,
   "id": "62575e25-88bb-4a4c-ba4c-247db47118be",
   "metadata": {},
   "outputs": [],
   "source": [
    "import os\n",
    "import re\n",
    "import csv\n",
    "from tqdm import tqdm\n",
    "import xml.etree.ElementTree as ET"
   ]
  },
  {
   "cell_type": "code",
   "execution_count": 2,
   "id": "a6bd67b5-e9af-44e5-bf38-a11c8bef4cf0",
   "metadata": {},
   "outputs": [],
   "source": [
    "xml_folder = './../dat/xml' \n",
    "publications_file = './../dat/Publications.csv'"
   ]
  },
  {
   "cell_type": "code",
   "execution_count": 3,
   "id": "e3ff191c-265d-402d-adbf-96183980d0d1",
   "metadata": {},
   "outputs": [],
   "source": [
    "def get_publication_type(pub_element):\n",
    "    # Determine the publication type based on the presence of 'publtype' attribute or specific venue elements\n",
    "    if 'publtype' in pub_element.attrib:\n",
    "        return 'Informal or Other Publication'\n",
    "    \n",
    "    # Check for specific venue elements ('journal', 'booktitle') to determine publication type\n",
    "    venue_elements = ['journal', 'booktitle']\n",
    "    for element in venue_elements:\n",
    "        if pub_element.find(element) is not None:\n",
    "            return 'Journal Article' if element == 'journal' else 'Conference or Workshop Paper'\n",
    "    \n",
    "    # Default to 'Informal or Other Publication' if no specific venue element is found\n",
    "    return 'Informal or Other Publication'\n",
    "\n",
    "def extract_data_from_xml(xml_file):\n",
    "    # Parse the XML file\n",
    "    tree = ET.parse(xml_file)\n",
    "    root = tree.getroot()\n",
    "\n",
    "    # Extract professor name, removing trailing digits\n",
    "    professor_name = re.sub(r'\\d+$', '', root.attrib['name']).strip()\n",
    "\n",
    "    # Initialize a list to store extracted publications\n",
    "    publications = []\n",
    "\n",
    "    # Iterate through each article or inproceedings element in the XML\n",
    "    for article in root.findall('.//r/*'):\n",
    "        # Check if the element is an 'article' or 'inproceedings'\n",
    "        if article.tag in ['article', 'inproceedings']:\n",
    "            # Extract publication type\n",
    "            publication_type = get_publication_type(article)\n",
    "\n",
    "            # Extract venue, considering both 'journal' and 'booktitle'\n",
    "            venue = next((article.find(element).text for element in ['journal', 'booktitle'] if article.find(element) is not None), '')\n",
    "\n",
    "            # Extract title, authors, and year\n",
    "            title = article.find('title').text if article.find('title') is not None else ''\n",
    "            authors = ';'.join(re.sub(r'\\d+$', '', author.text).strip() for author in article.findall('author'))\n",
    "            year = article.find('year').text if article.find('year') is not None else ''\n",
    "\n",
    "            # Append the extracted data to the list\n",
    "            publications.append({\n",
    "                'Professor': professor_name,\n",
    "                'Publication Type': publication_type,\n",
    "                'Venue': venue,\n",
    "                'Title': title,\n",
    "                'Authors': authors,\n",
    "                'Year': year\n",
    "            })\n",
    "\n",
    "    # Return the list of extracted publications\n",
    "    return publications"
   ]
  },
  {
   "cell_type": "code",
   "execution_count": 4,
   "id": "a0ae1b2c-a4ed-473c-927d-757a0a93f5ca",
   "metadata": {},
   "outputs": [
    {
     "name": "stderr",
     "output_type": "stream",
     "text": [
      "100%|██████████████████████████████████████████████████████████████████████████████████| 27/27 [00:00<00:00, 92.86it/s]\n"
     ]
    }
   ],
   "source": [
    "# Initialize an empty list for extracted publications\n",
    "publications = []\n",
    "\n",
    "# Iterate through XML files in the specified folder, extracting data\n",
    "for xml_file in tqdm(os.listdir(xml_folder)):\n",
    "    if xml_file.endswith('.xml'):\n",
    "        xml_path = os.path.join(xml_folder, xml_file)\n",
    "        publications.extend(extract_data_from_xml(xml_path))\n",
    "\n",
    "# Write extracted publications to a CSV file\n",
    "with open(publications_file, 'w', newline='', encoding='utf-8') as csvfile:\n",
    "    writer = csv.DictWriter(csvfile, fieldnames=publications[0].keys())\n",
    "    writer.writeheader()\n",
    "    writer.writerows(publications)"
   ]
  },
  {
   "cell_type": "code",
   "execution_count": null,
   "id": "aeb28255-f8df-40b2-9dcc-c3043da8fed3",
   "metadata": {},
   "outputs": [],
   "source": []
  }
 ],
 "metadata": {
  "kernelspec": {
   "display_name": "Python 3 (ipykernel)",
   "language": "python",
   "name": "python3"
  },
  "language_info": {
   "codemirror_mode": {
    "name": "ipython",
    "version": 3
   },
   "file_extension": ".py",
   "mimetype": "text/x-python",
   "name": "python",
   "nbconvert_exporter": "python",
   "pygments_lexer": "ipython3",
   "version": "3.10.7"
  }
 },
 "nbformat": 4,
 "nbformat_minor": 5
}
