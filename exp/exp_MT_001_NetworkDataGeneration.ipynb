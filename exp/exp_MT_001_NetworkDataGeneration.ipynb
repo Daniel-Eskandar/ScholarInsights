{
 "cells": [
  {
   "cell_type": "markdown",
   "id": "6354ca71-84da-40c9-b105-afd32bb6b307",
   "metadata": {},
   "source": [
    "# Generate Network Data Files\n",
    "\n",
    "This scripts generates two CSV files describing nodes for every professor and edges describing the professors cooperation count. It also creates a TXT file assigning research field groups for all professor nodes. These files are later used by matlab scripts to create network figures showing cooperations between professors."
   ]
  },
  {
   "cell_type": "code",
   "execution_count": 1,
   "id": "eeac4378-58e1-4fb7-b3c7-f16297ec555a",
   "metadata": {},
   "outputs": [],
   "source": [
    "import csv\n",
    "import matplotlib.pyplot as plt\n",
    "import pandas as pd\n",
    "import math\n",
    "import ast\n",
    "import numpy as np\n",
    "from tueplots.constants.color import rgb\n",
    "\n",
    "plt.rcParams.update({\"figure.dpi\": 300, 'font.family': 'Times New Roman'})"
   ]
  },
  {
   "cell_type": "code",
   "execution_count": 2,
   "id": "ad444e85-80b3-4ee0-87aa-f0aebe77e893",
   "metadata": {},
   "outputs": [],
   "source": [
    "nodes_file  = './../dat/professor_nodes.csv'\n",
    "edges_file  = './../dat/professor_edges.csv'\n",
    "groups_file = './../dat/professor_groups.txt'"
   ]
  },
  {
   "cell_type": "code",
   "execution_count": 3,
   "id": "b6716a20-f652-4849-aa01-26b544ce7d7e",
   "metadata": {},
   "outputs": [],
   "source": [
    "df = pd.read_csv(\"./../dat/Publications.csv\")\n",
    "df = df.drop_duplicates(subset=['Professor', 'Title'], keep='first')\n",
    "professors = df[\"Professor\"].unique()\n",
    "classified_titles_df = pd.read_csv(\"./../dat/ClassifiedPublications.csv\")\n",
    "successfully_classified_titles_df = classified_titles_df[classified_titles_df['Research Fields'].apply(lambda x: len(ast.literal_eval(x)) > 0)]\n",
    "\n",
    "research_fields = [\n",
    "    'Computer Vision',\n",
    "    'Robotics',\n",
    "    'Bioinformatics and Computational Biology',\n",
    "    'Human-Computer Interaction',\n",
    "    'Design Automation of Microelectronic Systems (EDA)',\n",
    "    'Visualization', \n",
    "    'Web Information Retrieval',\n",
    "    'Natural Language Processing',\n",
    "    'Machine Learning', \n",
    "]\n",
    "\n",
    "sorted_research_fields = [\"Machine Learning\", \"Computer Vision\", \"Robotics\", \"Bioinformatics and Computational Biology\", \"Human-Computer Interaction\", \"Visualization\", \"Design Automation of Microelectronic Systems (EDA)\", \"Web Information Retrieval\", \"Natural Language Processing\"]\n",
    "sorted_colors = [rgb.tue_darkgreen, rgb.pn_orange, rgb.tue_darkblue, rgb.tue_lightblue, rgb.tue_brown, rgb.tue_blue, rgb.tue_green, rgb.tue_dark, rgb.tue_red]"
   ]
  },
  {
   "cell_type": "code",
   "execution_count": 5,
   "id": "343aa5bb-2457-44df-b9e2-926959853095",
   "metadata": {},
   "outputs": [
    {
     "name": "stdout",
     "output_type": "stream",
     "text": [
      "CSV file ./../dat/professor_nodes.csv created successfully.\n",
      "CSV file ./../dat/professor_edges.csv created successfully.\n",
      "txt file ./../dat/professor_groups.txt created successfully.\n"
     ]
    }
   ],
   "source": [
    "# Read and store the classified research field for every professor\n",
    "professors_research_fields = {}\n",
    "for professor in professors:\n",
    "    professor_df = successfully_classified_titles_df[successfully_classified_titles_df['Professor'] == professor]\n",
    "    professor_research_fields = {research_field: 0 for research_field in research_fields}\n",
    "    for i, row in professor_df.iterrows():\n",
    "        professor_research_fields[row['Research Field']] += 1 \n",
    "    professors_research_fields[professor] = max(professor_research_fields, key=professor_research_fields.get)\n",
    "\n",
    "\n",
    "# Group the professors with unique indices for each research field\n",
    "professor_grouping = {}\n",
    "for prof in professors_research_fields:\n",
    "    professor_grouping[prof] = research_fields.index(professors_research_fields[prof])\n",
    "\n",
    "\n",
    "# Generate the node file\n",
    "with open(nodes_file, mode='w', newline='') as csv_file:\n",
    "    \n",
    "    \n",
    "    writer = csv.DictWriter(csv_file, fieldnames=[\"Research Field\", \"id\", \"name\"])\n",
    "\n",
    "    # Write the header\n",
    "    writer.writeheader()\n",
    "\n",
    "    for prof in professors:\n",
    "        writer.writerow({\"Research Field\": professors_research_fields[prof],\"id\": \"id\"+ str(np.where(professors == prof)[0][0]), \"name\": prof.replace(\"ö\", \"oe\")})\n",
    "\n",
    "print(f\"CSV file \" + nodes_file + \" created successfully.\")\n",
    "\n",
    "# Getting the coauthors and their collaboration count for every professor for the edges\n",
    "professors_coauthors = {prof: {} for prof in professors}\n",
    "\n",
    "for _, row in df.iterrows():\n",
    "    prof = row.iloc[0]\n",
    "    for coauthor in row.iloc[4].split(';'):\n",
    "        if (coauthor != prof):\n",
    "            if coauthor in professors:\n",
    "                    if coauthor in professors_coauthors[prof]:\n",
    "                        professors_coauthors[prof][coauthor] +=1\n",
    "                    else:\n",
    "                        professors_coauthors[prof][coauthor] = 1\n",
    "\n",
    "# Generate the edges file\n",
    "with open(edges_file, mode='w', newline='') as csv_file:\n",
    "    writer = csv.DictWriter(csv_file, fieldnames=[\"id1\", \"id2\", \"Paper Cooperations\"])\n",
    "\n",
    "    # Write the header\n",
    "    #writer.writeheader()\n",
    "    writer.writerow({\"id1\":\"id1\", \"id2\":\"id2\", \"Paper Cooperations\":\"Paper Cooperations\"})\n",
    "    for prof in professors_coauthors:\n",
    "        for coauthor in professors_coauthors[prof]:\n",
    "            writer.writerow({\"id1\": \"id\" + str(np.where(professors == prof)[0][0]),\"id2\": \"id\"+ str(np.where(professors == coauthor)[0][0]), \"Paper Cooperations\": professors_coauthors[prof][coauthor]})\n",
    "\n",
    "print(f\"CSV file \" + edges_file + \" created successfully.\")\n",
    "\n",
    "#Generate the group file\n",
    "f = open(groups_file, mode=\"wt\")\n",
    "f.write(\"id;nodes;padding\\n\")\n",
    "for field in research_fields:\n",
    "    group_list = []\n",
    "    for prof in professors:\n",
    "        if professors_research_fields[prof] == field:\n",
    "            group_list.append('\"id' + str(np.where(professors == prof)[0][0])+'\"')  \n",
    "    if len(group_list)>1:\n",
    "        f.write(\"g\"+str(research_fields.index(field)) + \";[\")\n",
    "        for i in range(len(group_list)):\n",
    "            f.write(group_list[i])\n",
    "            if i < len(group_list)-1:\n",
    "                f.write(\",\")\n",
    "        f.write(\"];8\\n\")\n",
    "\n",
    "print(f\"txt file \" + groups_file + \" created successfully.\")"
   ]
  },
  {
   "cell_type": "code",
   "execution_count": null,
   "id": "fd8f9ea3-bb39-470d-a344-4acef485eb3e",
   "metadata": {},
   "outputs": [],
   "source": []
  }
 ],
 "metadata": {
  "kernelspec": {
   "display_name": "Python 3 (ipykernel)",
   "language": "python",
   "name": "python3"
  },
  "language_info": {
   "codemirror_mode": {
    "name": "ipython",
    "version": 3
   },
   "file_extension": ".py",
   "mimetype": "text/x-python",
   "name": "python",
   "nbconvert_exporter": "python",
   "pygments_lexer": "ipython3",
   "version": "3.9.4"
  }
 },
 "nbformat": 4,
 "nbformat_minor": 5
}
