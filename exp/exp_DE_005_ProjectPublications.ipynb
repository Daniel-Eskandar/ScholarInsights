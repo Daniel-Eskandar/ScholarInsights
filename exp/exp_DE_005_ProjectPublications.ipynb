{
 "cells": [
  {
   "cell_type": "markdown",
   "id": "424aa881-09ac-4722-b216-ab9f88bbeb39",
   "metadata": {},
   "source": [
    "# Project Publications\n",
    "\n",
    "The objective of this experiment is to employ the semantic information encapsulated in the titles of research papers along with associated research fields. The goal is to transform the paper titles into 2D points (projecting them to a 2D research space), thereby facilitating a reduced and meaningful representation.\n"
   ]
  },
  {
   "cell_type": "code",
   "execution_count": 8,
   "id": "4bb4c954-349b-46ab-aee4-8a658c15b623",
   "metadata": {},
   "outputs": [
    {
     "name": "stderr",
     "output_type": "stream",
     "text": [
      "[nltk_data] Downloading package punkt to\n",
      "[nltk_data]     C:\\Users\\danie\\AppData\\Roaming\\nltk_data...\n",
      "[nltk_data]   Package punkt is already up-to-date!\n",
      "[nltk_data] Downloading package wordnet to\n",
      "[nltk_data]     C:\\Users\\danie\\AppData\\Roaming\\nltk_data...\n",
      "[nltk_data]   Package wordnet is already up-to-date!\n",
      "[nltk_data] Downloading package stopwords to\n",
      "[nltk_data]     C:\\Users\\danie\\AppData\\Roaming\\nltk_data...\n",
      "[nltk_data]   Package stopwords is already up-to-date!\n"
     ]
    },
    {
     "data": {
      "text/plain": [
       "True"
      ]
     },
     "execution_count": 8,
     "metadata": {},
     "output_type": "execute_result"
    }
   ],
   "source": [
    "import ast\n",
    "import numpy as np\n",
    "import pandas as pd\n",
    "from tqdm import tqdm\n",
    "\n",
    "import nltk\n",
    "import string\n",
    "from collections import Counter\n",
    "from nltk.corpus import stopwords\n",
    "from nltk.stem import PorterStemmer\n",
    "\n",
    "porter = PorterStemmer()\n",
    "\n",
    "nltk.download('punkt')\n",
    "nltk.download('wordnet')\n",
    "nltk.download('stopwords')"
   ]
  },
  {
   "cell_type": "code",
   "execution_count": 30,
   "id": "d5622607-903b-40c5-bebe-59313b3bf346",
   "metadata": {},
   "outputs": [],
   "source": [
    "from sklearn.feature_extraction.text import TfidfVectorizer\n",
    "from sklearn.manifold import TSNE\n",
    "\n",
    "def preprocess_title(title):\n",
    "    words = nltk.word_tokenize(title)\n",
    "    table = str.maketrans('', '', string.punctuation)\n",
    "    words = [word.translate(table) for word in words]\n",
    "    words = [word.lower() for word in words]\n",
    "    stop_words = set(stopwords.words('english'))\n",
    "    words = [word for word in words if word and word not in stop_words]\n",
    "    words = [porter.stem(word) for word in words]\n",
    "    preprocessed_title = ' '.join(words)\n",
    "    return preprocessed_title\n",
    "\n",
    "# Preprocess titles and concatenate them with corresponding research fields (multilabel classification)\n",
    "titles = []\n",
    "for i, row in df.iterrows():\n",
    "    title = row['Title']\n",
    "    title_research_fields = ', '.join(ast.literal_eval(row['Research Fields']))\n",
    "    combined_title = f\"{title} {title_research_fields}\"\n",
    "    combined_title = preprocess_title(combined_title)\n",
    "    titles.append(combined_title)\n",
    "\n",
    "# Calculate TF-IDF matrix (rows are titles and columns are words)\n",
    "vectorizer = TfidfVectorizer()\n",
    "X = vectorizer.fit_transform(titles)\n",
    "\n",
    "# Reduce dimensionality of each title (row) to 2 using TSNE\n",
    "tsne = TSNE(n_components=2, random_state=42)\n",
    "X_tsne = tsne.fit_transform(X.toarray())\n",
    "\n",
    "# Add the projection of the papers to the 2D reserach space to the df\n",
    "projected_publications_df = df.copy()\n",
    "projected_publications_df['2D Points'] = X_tsne.tolist()\n",
    "projected_publications_df[['x', 'y']] = pd.DataFrame(X_tsne.tolist(), index=projected_publications_df.index)\n",
    "projected_publications_df[['x', 'y']] = projected_publications_df[['x', 'y']].astype(float)\n",
    "\n",
    "# Save new data frame\n",
    "projected_publications_df.to_csv('./../dat/ProjectedPublications.csv', index=False)"
   ]
  },
  {
   "cell_type": "code",
   "execution_count": null,
   "id": "fce66b9d-f636-421f-9f9d-fc01cf6af58e",
   "metadata": {},
   "outputs": [],
   "source": []
  }
 ],
 "metadata": {
  "kernelspec": {
   "display_name": "Python 3 (ipykernel)",
   "language": "python",
   "name": "python3"
  },
  "language_info": {
   "codemirror_mode": {
    "name": "ipython",
    "version": 3
   },
   "file_extension": ".py",
   "mimetype": "text/x-python",
   "name": "python",
   "nbconvert_exporter": "python",
   "pygments_lexer": "ipython3",
   "version": "3.9.4"
  }
 },
 "nbformat": 4,
 "nbformat_minor": 5
}
