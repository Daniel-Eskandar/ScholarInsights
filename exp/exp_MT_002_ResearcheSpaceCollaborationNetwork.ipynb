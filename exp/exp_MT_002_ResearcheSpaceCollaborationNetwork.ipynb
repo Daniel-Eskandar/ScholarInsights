{
 "cells": [
  {
   "cell_type": "markdown",
   "id": "b132023a-62a1-48e0-a32a-82871b811078",
   "metadata": {},
   "source": [
    "# Research Space Collaboration Network\n",
    "\n",
    "This script generates a plot showing each professors position in the research space and then connects them with edges.\n",
    "The edges width is determined by how often they collaborated."
   ]
  },
  {
   "cell_type": "code",
   "execution_count": 8,
   "id": "6f781f9f-3355-4e92-83ed-74616de38201",
   "metadata": {},
   "outputs": [],
   "source": [
    "import os\n",
    "import ast\n",
    "import imageio\n",
    "import numpy as np\n",
    "import pandas as pd\n",
    "from tqdm import tqdm\n",
    "from tueplots import bundles\n",
    "import matplotlib.pyplot as plt\n",
    "from IPython.display import Image\n",
    "from tueplots.constants.color import rgb\n",
    "import matplotlib.lines as lines\n",
    "\n",
    "plt.rcParams.update(bundles.beamer_moml())\n",
    "plt.rcParams.update({\"figure.dpi\": 300, 'font.family': 'Times New Roman'})"
   ]
  },
  {
   "cell_type": "code",
   "execution_count": 9,
   "id": "b89f5d83-51fe-43a1-97b5-fb69ee440bd7",
   "metadata": {},
   "outputs": [],
   "source": [
    "df = pd.read_csv(\"./../dat/ProjectedPublications.csv\")\n",
    "unique_df = df.drop_duplicates(subset='Title', keep='first')\n",
    "\n",
    "years = range(df['Year'].min(), df['Year'].max() + 1)\n",
    "professors = df[\"Professor\"].unique()\n",
    "\n",
    "research_fields = [\n",
    "    'Computer Vision',\n",
    "    'Robotics',\n",
    "    'Bioinformatics and Computational Biology',\n",
    "    'Human-Computer Interaction',\n",
    "    'Design Automation of Microelectronic Systems (EDA)',\n",
    "    'Visualization', \n",
    "    'Web Information Retrieval',\n",
    "    'Natural Language Processing',\n",
    "    'Machine Learning', \n",
    "]\n",
    "\n",
    "sorted_research_fields = [\"Machine Learning\", \"Computer Vision\", \"Robotics\", \"Bioinformatics and Computational Biology\", \"Human-Computer Interaction\", \"Visualization\", \"Design Automation of Microelectronic Systems (EDA)\", \"Web Information Retrieval\", \"Natural Language Processing\"]\n",
    "sorted_colors = [rgb.tue_darkgreen, rgb.pn_orange, rgb.tue_darkblue, rgb.tue_lightblue, rgb.tue_brown, rgb.tue_blue, rgb.tue_green, rgb.tue_dark, rgb.tue_red]\n",
    "colors = dict(zip(sorted_research_fields, sorted_colors))\n",
    "\n",
    "def format_name(name):\n",
    "    parts = name.split()\n",
    "    formatted_name = parts[0][0].upper() + \". \" + parts[-1]\n",
    "    return formatted_name"
   ]
  },
  {
   "cell_type": "code",
   "execution_count": 14,
   "id": "209b701b-e4f6-48e6-9f6c-17d8766c4de6",
   "metadata": {},
   "outputs": [
    {
     "name": "stderr",
     "output_type": "stream",
     "text": [
      "Creating Plot for Each Year: 100%|█████████████████████████████████████████████████████| 35/35 [00:11<00:00,  2.93it/s]\n"
     ]
    }
   ],
   "source": [
    "professors_colleagues_coauthors = {prof: {} for prof in professors}\n",
    "\n",
    "for _, row in df.iterrows():\n",
    "    prof = row.iloc[0]\n",
    "    for coauthor in row.iloc[4].split(';'):\n",
    "        if (coauthor != prof):\n",
    "            if coauthor in professors_colleagues_coauthors[prof]:\n",
    "                professors_colleagues_coauthors[prof][coauthor] +=1\n",
    "            else:\n",
    "                professors_colleagues_coauthors[prof][coauthor] = 1                 \n",
    "\n",
    "for prof in professors_colleagues_coauthors:\n",
    "    professors_colleagues_coauthors[prof] = dict(sorted(professors_colleagues_coauthors[prof].items(), key=lambda item: item[1], reverse=True))\n",
    "\n",
    "for year in tqdm(years, desc=\"Creating Plot for Each Year\"):\n",
    "    professor_positions = {prof: [] for prof in professors}\n",
    "    year_df = df[df['Year'] <= year]\n",
    "    unique_year_df = unique_df[unique_df['Year'] <= year]\n",
    "\n",
    "    fig, ax = plt.subplots()\n",
    "    fig.set_size_inches(fig.get_size_inches()[0], fig.get_size_inches()[0])\n",
    "\n",
    "    # Professors\n",
    "    for professor in professors:\n",
    "        professor_df = year_df[year_df['Professor'] == professor]\n",
    "        if len(professor_df) != 0:\n",
    "            professor_x, professor_y = professor_df[['x', 'y']].mean()\n",
    "            ax.scatter(professor_x, professor_y, color=rgb.tue_dark, alpha=0.7, s=20, zorder=2)\n",
    "            y, va = 0.3, 'bottom'\n",
    "            if professor == 'Philipp Berens':\n",
    "                y, va = -y, 'top'\n",
    "            ax.text(professor_x, professor_y + y, format_name(professor), ha='center', va=va, fontsize=5.5, zorder=4)\n",
    "            professor_positions[professor] = [professor_x, professor_y]\n",
    "\n",
    "    # Drawing connection lines\n",
    "    for prof1 in professors:\n",
    "        for prof2 in professors:\n",
    "            prof1_pos, prof2_pos = professor_positions[prof1], professor_positions[prof2]\n",
    "            if (len(prof1_pos) != 0) and (len(prof2_pos) != 0) and prof2 in list(professors_colleagues_coauthors[prof1].keys()):\n",
    "                line = lines.Line2D([prof1_pos[0],prof2_pos[0]], [prof1_pos[1], prof2_pos[1]], color='gray', linewidth=professors_colleagues_coauthors[prof1][prof2]/3, alpha=0.2)\n",
    "                ax.add_line(line)\n",
    "\n",
    "    ax.set_xlim([-80, 80])\n",
    "    ax.set_ylim([-80, 80])\n",
    "\n",
    "    ax.set_xticks([])\n",
    "    ax.set_yticks([])\n",
    "    ax.tick_params(axis='both', which='both', bottom=False, top=False, left=False, right=False)\n",
    "\n",
    "    ax.set_xlabel('')\n",
    "    ax.set_ylabel('')\n",
    "    \n",
    "    ax.set_title(f'Research Space Network (Until Year {year})')\n",
    "\n",
    "   # if legend:\n",
    "    #    ax.legend(title=\"Research Fields\", loc=\"lower right\", framealpha=1, facecolor=\"white\", frameon=True, fontsize='x-small')\n",
    "\n",
    "    plt.close()\n",
    "\n",
    "    fig.savefig(f'./../plt/ResearchSpaceNetwork/{year}.png')"
   ]
  },
  {
   "cell_type": "code",
   "execution_count": null,
   "id": "e8542110-c028-49aa-be9c-e39fd8c8a27a",
   "metadata": {},
   "outputs": [],
   "source": []
  }
 ],
 "metadata": {
  "kernelspec": {
   "display_name": "Python 3 (ipykernel)",
   "language": "python",
   "name": "python3"
  },
  "language_info": {
   "codemirror_mode": {
    "name": "ipython",
    "version": 3
   },
   "file_extension": ".py",
   "mimetype": "text/x-python",
   "name": "python",
   "nbconvert_exporter": "python",
   "pygments_lexer": "ipython3",
   "version": "3.9.4"
  }
 },
 "nbformat": 4,
 "nbformat_minor": 5
}
